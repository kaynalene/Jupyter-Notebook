{
 "cells": [
  {
   "cell_type": "markdown",
   "id": "93361cc2",
   "metadata": {},
   "source": [
    "# My Jupyter Notebook on IBM Watson Studio"
   ]
  },
  {
   "cell_type": "markdown",
   "id": "96f14b50",
   "metadata": {},
   "source": [
    "**KAYNALENE DELO**\n",
    "\n",
    " Data Scientist"
   ]
  },
  {
   "cell_type": "markdown",
   "id": "1b64eb6d",
   "metadata": {},
   "source": [
    "*I am interested in data science because it stimulates my curiousity and I am always learning new things.*"
   ]
  },
  {
   "cell_type": "markdown",
   "id": "1ebdd8e7",
   "metadata": {},
   "source": [
    "***This is a simple addition***"
   ]
  },
  {
   "cell_type": "code",
   "execution_count": null,
   "id": "b0d5cf97",
   "metadata": {},
   "outputs": [],
   "source": [
    "1+1"
   ]
  },
  {
   "cell_type": "markdown",
   "id": "8de07f30",
   "metadata": {},
   "source": [
    "- Ice cream\n",
    "- Pink\n",
    "> Nature\n",
    "- Pets\n",
    "\n",
    "My favorite search engine is [Google](https://www.google.com/).\n"
   ]
  },
  {
   "cell_type": "code",
   "execution_count": null,
   "id": "d281b7ec",
   "metadata": {},
   "outputs": [],
   "source": []
  }
 ],
 "metadata": {
  "kernelspec": {
   "display_name": "Python 3 (ipykernel)",
   "language": "python",
   "name": "python3"
  },
  "language_info": {
   "codemirror_mode": {
    "name": "ipython",
    "version": 3
   },
   "file_extension": ".py",
   "mimetype": "text/x-python",
   "name": "python",
   "nbconvert_exporter": "python",
   "pygments_lexer": "ipython3",
   "version": "3.9.6"
  }
 },
 "nbformat": 4,
 "nbformat_minor": 5
}
